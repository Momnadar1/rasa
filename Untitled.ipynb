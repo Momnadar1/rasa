{
 "cells": [
  {
   "cell_type": "code",
   "execution_count": null,
   "metadata": {},
   "outputs": [],
   "source": [
    "!pip install rasa_nlu"
   ]
  },
  {
   "cell_type": "code",
   "execution_count": null,
   "metadata": {},
   "outputs": [],
   "source": [
    "!pip install rasa_nlu[spacy]"
   ]
  },
  {
   "cell_type": "code",
   "execution_count": null,
   "metadata": {},
   "outputs": [],
   "source": [
    "!python -m spacy download en_core_web_md"
   ]
  },
  {
   "cell_type": "code",
   "execution_count": null,
   "metadata": {},
   "outputs": [],
   "source": [
    "!python -m spacy link en_core_web_md en –force"
   ]
  },
  {
   "cell_type": "code",
   "execution_count": null,
   "metadata": {},
   "outputs": [],
   "source": [
    "import logging, pprint  \n",
    "from rasa_nlu import config\n",
    "from rasa_nlu.training_data import load_data  \n",
    "from rasa_nlu.model import Interpreter, Trainer  \n",
    "from rasa_nlu.test import run_evaluation  \n",
    "\n",
    "logfile = \"rasa_trippy.log\"  \n",
    "\n",
    "# set logging level  \n",
    "logging.basicConfig(filename=logfile, level=logging.DEBUG)\n",
    "\n",
    "# load the training data\n",
    "train_data = load_data(\"./data/nlu.md\") \n",
    "\n",
    "# create Trainer object using the config file to define the pipeline\n",
    "trainer = Trainer(config.load(\"config.yml\"))  \n",
    "\n",
    "# train the model\n",
    "trainer.train(train_data)  \n",
    "\n",
    "# persist the model to store it for future use\n",
    "model_directory = trainer.persist(\"./models/nlu\", fixed_model_name=\"current\")  \n",
    "\n",
    "# load the model from the file\n",
    "interpreter = Interpreter.load(\"./models/nlu/default/current\")  \n",
    "\n",
    "# perform few tests  \n",
    "pprint.pprint(interpreter.parse(\"hey there\")) \n",
    "pprint.pprint(interpreter.parse(\"find trains from bangalore to mumbai\"))"
   ]
  }
 ],
 "metadata": {
  "kernelspec": {
   "display_name": "Python 3",
   "language": "python",
   "name": "python3"
  },
  "language_info": {
   "codemirror_mode": {
    "name": "ipython",
    "version": 3
   },
   "file_extension": ".py",
   "mimetype": "text/x-python",
   "name": "python",
   "nbconvert_exporter": "python",
   "pygments_lexer": "ipython3",
   "version": "3.7.9"
  }
 },
 "nbformat": 4,
 "nbformat_minor": 4
}
